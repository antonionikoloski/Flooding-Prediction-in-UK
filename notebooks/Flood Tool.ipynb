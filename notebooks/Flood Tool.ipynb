{
 "cells": [
  {
   "cell_type": "markdown",
   "metadata": {},
   "source": [
    "# Flood Tool Examples\n",
    "\n",
    "## Placeholder notebook\n",
    "\n",
    "This notebook is initially set up to allow you to quickly start demonstrating your tool. You should expect it to change a lot over the course of the week as you add features and explore the data.\n",
    "\n",
    "The majority of your code is likely to be in your package (i.e. the `flood_tool` directory). You should import this package into this notebook and use it to show off the features of your tool."
   ]
  },
  {
   "cell_type": "code",
   "execution_count": null,
   "metadata": {},
   "outputs": [],
   "source": [
    "import sys\n",
    "\n",
    "# add the path to the flood_tool module so it's always found\n",
    "# when we import it. Note that '..' means \"go up one directory\"\n",
    "# from the current directory. This isn't best practice. If your tool\n",
    "# can be installed as a package (e.g. with `pip install -e.`), you\n",
    "# should do that instead.\n",
    "\n",
    "sys.path.append('..')\n",
    "import flood_tool as ft"
   ]
  },
  {
   "cell_type": "code",
   "execution_count": null,
   "metadata": {},
   "outputs": [],
   "source": [
    "tool = ft.Tool() # equivalent to Tool('../flood_tool/resoures/postcodes_unlabelled.csv')"
   ]
  },
  {
   "cell_type": "code",
   "execution_count": null,
   "metadata": {},
   "outputs": [],
   "source": [
    "tool.lookup_easting_northing(['RH16 2QE'])"
   ]
  },
  {
   "cell_type": "code",
   "execution_count": null,
   "metadata": {},
   "outputs": [],
   "source": [
    "# Prediction using postcode and default model\n",
    "tool.fit() # fit all the models\n",
    "tool.predict_flood_class_from_postcode(['RH16 2QE'])"
   ]
  },
  {
   "cell_type": "markdown",
   "metadata": {},
   "source": [
    "We can also use the live data features"
   ]
  },
  {
   "cell_type": "code",
   "execution_count": null,
   "metadata": {},
   "outputs": [],
   "source": [
    "data = ft.get_latest_rainfall_readings()\n",
    "data.head()"
   ]
  },
  {
   "cell_type": "code",
   "execution_count": null,
   "metadata": {},
   "outputs": [],
   "source": [
    "data = ft.get_live_station_data('079621')\n",
    "data.head()"
   ]
  },
  {
   "cell_type": "code",
   "execution_count": null,
   "metadata": {},
   "outputs": [],
   "source": [
    "live, forecast = ft.get_live_weather_data(51.5, 0.1)\n",
    "live"
   ]
  },
  {
   "cell_type": "code",
   "execution_count": null,
   "metadata": {},
   "outputs": [],
   "source": [
    "forecast.head()"
   ]
  },
  {
   "cell_type": "code",
   "execution_count": null,
   "metadata": {},
   "outputs": [],
   "source": []
  }
 ],
 "metadata": {
  "kernelspec": {
   "display_name": "npp2024",
   "language": "python",
   "name": "python3"
  },
  "language_info": {
   "codemirror_mode": {
    "name": "ipython",
    "version": 3
   },
   "file_extension": ".py",
   "mimetype": "text/x-python",
   "name": "python",
   "nbconvert_exporter": "python",
   "pygments_lexer": "ipython3",
   "version": "3.12.6"
  }
 },
 "nbformat": 4,
 "nbformat_minor": 2
}
